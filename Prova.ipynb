{
  "nbformat": 4,
  "nbformat_minor": 0,
  "metadata": {
    "colab": {
      "provenance": [],
      "authorship_tag": "ABX9TyM4GTeCKKH0k81+PZMxw8tX",
      "include_colab_link": true
    },
    "kernelspec": {
      "name": "python3",
      "display_name": "Python 3"
    },
    "language_info": {
      "name": "python"
    }
  },
  "cells": [
    {
      "cell_type": "markdown",
      "metadata": {
        "id": "view-in-github",
        "colab_type": "text"
      },
      "source": [
        "<a href=\"https://colab.research.google.com/github/suhcstt/ENGPROD/blob/main/Prova.ipynb\" target=\"_parent\"><img src=\"https://colab.research.google.com/assets/colab-badge.svg\" alt=\"Open In Colab\"/></a>"
      ]
    },
    {
      "cell_type": "code",
      "execution_count": null,
      "metadata": {
        "id": "UndrWxUjVKAF"
      },
      "outputs": [],
      "source": [
        "# Início\n",
        "resposta = input(\"Deseja calcular a média? sim ou não: \").strip().lower()\n",
        "#Condição\n",
        "while resposta == \"sim\":\n",
        "    valor1 = float(input(\"Insira o primeiro valor: \"))\n",
        "    valor2 = float(input(\"Insira o segundo valor: \"))\n",
        "\n",
        "    # Média\n",
        "    media = (valor1 + valor2) / 2\n",
        "    print(f\"A média entre {valor1} e {valor2} é: {media}\")\n",
        "\n",
        "    # Perguntar novamente\n",
        "    resposta = input(\"Deseja calcular a média novamente? sim ou não: \").strip().lower()\n",
        "\n",
        "# Fim\n",
        "print(\"Programa finalizado.\")"
      ]
    }
  ]
}