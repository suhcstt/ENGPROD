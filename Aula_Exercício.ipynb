{
  "nbformat": 4,
  "nbformat_minor": 0,
  "metadata": {
    "colab": {
      "provenance": [],
      "authorship_tag": "ABX9TyNCor7fIkOpVy4slxf0GkzB",
      "include_colab_link": true
    },
    "kernelspec": {
      "name": "python3",
      "display_name": "Python 3"
    },
    "language_info": {
      "name": "python"
    }
  },
  "cells": [
    {
      "cell_type": "markdown",
      "metadata": {
        "id": "view-in-github",
        "colab_type": "text"
      },
      "source": [
        "<a href=\"https://colab.research.google.com/github/suhcstt/ENGPROD/blob/main/Aula_Exerc%C3%ADcio.ipynb\" target=\"_parent\"><img src=\"https://colab.research.google.com/assets/colab-badge.svg\" alt=\"Open In Colab\"/></a>"
      ]
    },
    {
      "cell_type": "code",
      "execution_count": null,
      "metadata": {
        "id": "jkc7hZ8qPgsL"
      },
      "outputs": [],
      "source": []
    },
    {
      "cell_type": "markdown",
      "source": [
        "# **AULA EXERCÍCIO**\n",
        "\n"
      ],
      "metadata": {
        "id": "cgnU_aK6P1va"
      }
    },
    {
      "cell_type": "code",
      "source": [
        "#EX 1\n",
        "valor = int(input(\"Digite um valor inteiro: \"))\n",
        "if valor % 3 == 0:\n",
        "  print(\"O valor é múltiplo de 3.\")\n",
        "else:\n",
        "  print(\"O valor não é múltiplo de 3.\")"
      ],
      "metadata": {
        "colab": {
          "base_uri": "https://localhost:8080/"
        },
        "id": "oVZO-RjOP7wT",
        "outputId": "cb3c318d-81f1-4ae6-986e-49ee8bc4b64a"
      },
      "execution_count": 16,
      "outputs": [
        {
          "output_type": "stream",
          "name": "stdout",
          "text": [
            "Digite um valor inteiro: 5\n",
            "O valor não é múltiplo de 3.\n"
          ]
        }
      ]
    },
    {
      "cell_type": "markdown",
      "source": [
        "Ex 2"
      ],
      "metadata": {
        "id": "pUZth0NIUh2q"
      }
    },
    {
      "cell_type": "code",
      "source": [
        "A = float(input(\"Digite a nota A (peso 2): \"))\n",
        "B = float(input(\"Digite a nota B (peso 3): \"))\n",
        "#Média Ponderada\n",
        "peso_A = 2\n",
        "peso_B = 3\n",
        "media_ponderada = (A * peso_A + B * peso_B) / (peso_A + peso_B)\n",
        "#Aprovação\n",
        "if media_ponderada >= 5:\n",
        "  Status = \"Aprovado\"\n",
        "else:\n",
        "  Status = \"Reprovado\"\n",
        "print(f\"Média Ponderada: {media_ponderada:.0f} - Status: {Status}\")"
      ],
      "metadata": {
        "colab": {
          "base_uri": "https://localhost:8080/"
        },
        "id": "475oonlYUkYC",
        "outputId": "f8b527ee-ec1c-46f9-cbd7-c8d7162d8f14"
      },
      "execution_count": 25,
      "outputs": [
        {
          "output_type": "stream",
          "name": "stdout",
          "text": [
            "Digite a nota A (peso 2): 10\n",
            "Digite a nota B (peso 3): 10\n",
            "Média Ponderada: 10 - Status: Aprovado\n"
          ]
        }
      ]
    },
    {
      "cell_type": "markdown",
      "source": [],
      "metadata": {
        "id": "rhlPEx10P9U6"
      }
    }
  ]
}