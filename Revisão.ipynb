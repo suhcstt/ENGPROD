{
  "nbformat": 4,
  "nbformat_minor": 0,
  "metadata": {
    "colab": {
      "provenance": [],
      "authorship_tag": "ABX9TyNy6dpK6zSHre2ILdCP1Hia",
      "include_colab_link": true
    },
    "kernelspec": {
      "name": "python3",
      "display_name": "Python 3"
    },
    "language_info": {
      "name": "python"
    }
  },
  "cells": [
    {
      "cell_type": "markdown",
      "metadata": {
        "id": "view-in-github",
        "colab_type": "text"
      },
      "source": [
        "<a href=\"https://colab.research.google.com/github/suhcstt/ENGPROD/blob/main/Revis%C3%A3o.ipynb\" target=\"_parent\"><img src=\"https://colab.research.google.com/assets/colab-badge.svg\" alt=\"Open In Colab\"/></a>"
      ]
    },
    {
      "cell_type": "code",
      "execution_count": null,
      "metadata": {
        "id": "K_3n9SczuEQf"
      },
      "outputs": [],
      "source": []
    },
    {
      "cell_type": "markdown",
      "source": [
        "###**Exercícios para praticar**"
      ],
      "metadata": {
        "id": "-RGduxzWIHZ_"
      }
    },
    {
      "cell_type": "markdown",
      "source": [
        " Criar a narrativa, o pseudocódigo, o fluxograma e código de um programa que solicite ao usuário digitar uma\n",
        "temperatura em farenheit e convertê-la e exibir o resultado em graus Celsius. Onde C = (5/9)(F-32)"
      ],
      "metadata": {
        "id": "MiXw2IpyNI_K"
      }
    },
    {
      "cell_type": "code",
      "source": [
        "#Informar o valor em farenheit\n",
        "farenheit= float(input(\"Digite a temperatura em farenheit: \"))\n",
        "#Converter a temperatura\n",
        "celcius = (5/9) * (farenheit - 32)\n",
        "#Exibir resultado\n",
        "print(f\"A temperaura em Celcius é: {celcius:.2f}°C\")\n"
      ],
      "metadata": {
        "colab": {
          "base_uri": "https://localhost:8080/"
        },
        "id": "rI7O1ctLIVEX",
        "outputId": "2a1b1d15-1085-4e44-b5ab-b9f9295d9b12"
      },
      "execution_count": 11,
      "outputs": [
        {
          "output_type": "stream",
          "name": "stdout",
          "text": [
            "Digite a temperatura em farenheit: 245\n",
            "A temperaura em Celcius é: 118.33°C\n"
          ]
        }
      ]
    },
    {
      "cell_type": "markdown",
      "source": [
        "Criar a narrativa, o pseudocódigo, o fluxograma e código de um programa que solicite ao usuário digitar uma medida\n",
        "em polegadas, elaborar um programa para converter o valor dado para milímetros. (1” = 25,4mm)"
      ],
      "metadata": {
        "id": "BYbaP1OUNMKD"
      }
    },
    {
      "cell_type": "code",
      "source": [
        "#Digitar valor em polegadas\n",
        "polegadas= float(input(\"Digite o valor em polegadas: \"))\n",
        "#Converter para milímetros\n",
        "milímetros = polegadas * 25.4\n",
        "#Exibir resultado\n",
        "print(f\"{polegadas:.2f} polegadas é igual a {milímetros:.2f} milimetros\")"
      ],
      "metadata": {
        "colab": {
          "base_uri": "https://localhost:8080/"
        },
        "id": "AKQFmQ8xLgLi",
        "outputId": "85a550d7-50b7-45cf-e956-4000b1adecc2"
      },
      "execution_count": 21,
      "outputs": [
        {
          "output_type": "stream",
          "name": "stdout",
          "text": [
            "Digite o valor em polegadas: 56\n",
            "56.00 polegadas é igual a 1422.40 milimetros\n"
          ]
        }
      ]
    },
    {
      "cell_type": "markdown",
      "source": [
        " Criar a narrativa, o pseudocódigo, o fluxograma e código de um programa que solicite ao usuário digitar uma medida\n",
        "em milímetros, elaborar um programa para converter o valor dado para polegadas."
      ],
      "metadata": {
        "id": "SEGYvajkNWWx"
      }
    },
    {
      "cell_type": "code",
      "source": [
        "#Digitar o valor em milimetros\n",
        "milimetros = float(input(\"Digite o valor em milimetros: \"))\n",
        "#Converter o valor em polegadas\n",
        "polegadas = milimetros/25.4\n",
        "#Exibir resultado\n",
        "print(f\"{milimetros:.2f} milimetros é igual a {polegadas:.2f} polegadas\")"
      ],
      "metadata": {
        "colab": {
          "base_uri": "https://localhost:8080/"
        },
        "id": "89iDhu4nNdaa",
        "outputId": "c78c3dc5-1cbe-4f0d-e2b9-77c80845c56b"
      },
      "execution_count": 27,
      "outputs": [
        {
          "output_type": "stream",
          "name": "stdout",
          "text": [
            "Digite o valor em milimetros: 1422.40\n",
            "1422.40 milimetros é igual a 56.00 polegadas\n"
          ]
        }
      ]
    },
    {
      "cell_type": "markdown",
      "source": [
        "Criar a narrativa, o pseudocódigo, o fluxograma e código de um programa que solicite ao usuário digitar sua idade e,\n",
        "em seguida, faça a verificação do valor; assim, se idade maior ou igual a 16 anos e menor que 70 anos, o programa\n",
        "deve retornar a mensagem “Você pode votar”. No caso contrário, ou seja, se menor que 16 anos ou maior que 70 anos\n",
        "“Sinto muito, infelizmente você não pode votar!”"
      ],
      "metadata": {
        "id": "EjLB8-vZOscI"
      }
    },
    {
      "cell_type": "code",
      "source": [
        "idade= int(input(\"Qual a sua idade? \"))\n",
        "if 16 <= idade < 70:\n",
        "  print(\"Você pode votar!\")\n",
        "else:\n",
        "  print(\"Sinto muito, infelizmente você não pode votar\")"
      ],
      "metadata": {
        "colab": {
          "base_uri": "https://localhost:8080/"
        },
        "id": "UZA4UMEMOw-O",
        "outputId": "997cb742-12da-4cbd-da56-eacee7338c6a"
      },
      "execution_count": 35,
      "outputs": [
        {
          "output_type": "stream",
          "name": "stdout",
          "text": [
            "Qual a sua idade? 69\n",
            "Você pode votar!\n"
          ]
        }
      ]
    }
  ]
}