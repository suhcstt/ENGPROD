{
  "nbformat": 4,
  "nbformat_minor": 0,
  "metadata": {
    "colab": {
      "provenance": [],
      "authorship_tag": "ABX9TyMmVPQa4zLIK4z1sePoefU3",
      "include_colab_link": true
    },
    "kernelspec": {
      "name": "python3",
      "display_name": "Python 3"
    },
    "language_info": {
      "name": "python"
    }
  },
  "cells": [
    {
      "cell_type": "markdown",
      "metadata": {
        "id": "view-in-github",
        "colab_type": "text"
      },
      "source": [
        "<a href=\"https://colab.research.google.com/github/suhcstt/ENGPROD/blob/main/Revis%C3%A3o.ipynb\" target=\"_parent\"><img src=\"https://colab.research.google.com/assets/colab-badge.svg\" alt=\"Open In Colab\"/></a>"
      ]
    },
    {
      "cell_type": "markdown",
      "source": [
        "###**Exercícios para praticar**"
      ],
      "metadata": {
        "id": "-RGduxzWIHZ_"
      }
    },
    {
      "cell_type": "markdown",
      "source": [
        " Criar a narrativa, o pseudocódigo, o fluxograma e código de um programa que solicite ao usuário digitar uma\n",
        "temperatura em farenheit e convertê-la e exibir o resultado em graus Celsius. Onde C = (5/9)(F-32)"
      ],
      "metadata": {
        "id": "MiXw2IpyNI_K"
      }
    },
    {
      "cell_type": "code",
      "source": [
        "#Informar o valor em farenheit\n",
        "farenheit= float(input(\"Digite a temperatura em farenheit: \"))\n",
        "#Converter a temperatura\n",
        "celcius = (5/9) * (farenheit - 32)\n",
        "#Exibir resultado\n",
        "print(f\"A temperaura em Celcius é: {celcius:.2f}°C\")\n"
      ],
      "metadata": {
        "colab": {
          "base_uri": "https://localhost:8080/"
        },
        "id": "rI7O1ctLIVEX",
        "outputId": "f73b1a25-e964-44d7-d42c-2c51fb5e5f09"
      },
      "execution_count": 92,
      "outputs": [
        {
          "output_type": "stream",
          "name": "stdout",
          "text": [
            "Digite a temperatura em farenheit: 40\n",
            "A temperaura em Celcius é: 4.44°C\n"
          ]
        }
      ]
    },
    {
      "cell_type": "markdown",
      "source": [
        "Criar a narrativa, o pseudocódigo, o fluxograma e código de um programa que solicite ao usuário digitar uma medida\n",
        "em polegadas, elaborar um programa para converter o valor dado para milímetros. (1” = 25,4mm)"
      ],
      "metadata": {
        "id": "BYbaP1OUNMKD"
      }
    },
    {
      "cell_type": "code",
      "source": [
        "#Digitar valor em polegadas\n",
        "polegadas= float(input(\"Digite o valor em polegadas: \"))\n",
        "#Converter para milímetros\n",
        "milímetros = polegadas * 25.4\n",
        "#Exibir resultado\n",
        "print(f\"{polegadas:.2f} polegadas é igual a {milímetros:.2f} milimetros\")"
      ],
      "metadata": {
        "colab": {
          "base_uri": "https://localhost:8080/"
        },
        "id": "AKQFmQ8xLgLi",
        "outputId": "7362a832-6ae9-436c-f6e0-0629bb3a5b23"
      },
      "execution_count": 93,
      "outputs": [
        {
          "output_type": "stream",
          "name": "stdout",
          "text": [
            "Digite o valor em polegadas: 50\n",
            "50.00 polegadas é igual a 1270.00 milimetros\n"
          ]
        }
      ]
    },
    {
      "cell_type": "markdown",
      "source": [
        " Criar a narrativa, o pseudocódigo, o fluxograma e código de um programa que solicite ao usuário digitar uma medida\n",
        "em milímetros, elaborar um programa para converter o valor dado para polegadas."
      ],
      "metadata": {
        "id": "SEGYvajkNWWx"
      }
    },
    {
      "cell_type": "code",
      "source": [
        "#Digitar o valor em milimetros\n",
        "milimetros = float(input(\"Digite o valor em milimetros: \"))\n",
        "#Converter o valor em polegadas\n",
        "polegadas = milimetros/25.4\n",
        "#Exibir resultado\n",
        "print(f\"{milimetros:.2f} milimetros é igual a {polegadas:.2f} polegadas\")"
      ],
      "metadata": {
        "colab": {
          "base_uri": "https://localhost:8080/"
        },
        "id": "89iDhu4nNdaa",
        "outputId": "adf61bdd-3ab8-4d34-933c-074d9d36e9b8"
      },
      "execution_count": 94,
      "outputs": [
        {
          "output_type": "stream",
          "name": "stdout",
          "text": [
            "Digite o valor em milimetros: 3\n",
            "3.00 milimetros é igual a 0.12 polegadas\n"
          ]
        }
      ]
    },
    {
      "cell_type": "markdown",
      "source": [
        "Criar a narrativa, o pseudocódigo, o fluxograma e código de um programa que solicite ao usuário digitar sua idade e,\n",
        "em seguida, faça a verificação do valor; assim, se idade maior ou igual a 16 anos e menor que 70 anos, o programa\n",
        "deve retornar a mensagem “Você pode votar”. No caso contrário, ou seja, se menor que 16 anos ou maior que 70 anos\n",
        "“Sinto muito, infelizmente você não pode votar!”"
      ],
      "metadata": {
        "id": "EjLB8-vZOscI"
      }
    },
    {
      "cell_type": "code",
      "source": [
        "idade= int(input(\"Qual a sua idade? \"))\n",
        "if 16 <= idade < 70:\n",
        "  print(\"Você pode votar!\")\n",
        "else:\n",
        "  print(\"Sinto muito, infelizmente você não pode votar\")"
      ],
      "metadata": {
        "colab": {
          "base_uri": "https://localhost:8080/"
        },
        "id": "UZA4UMEMOw-O",
        "outputId": "04e83d9f-e36a-4eef-cdc4-8c645b567b1c"
      },
      "execution_count": 95,
      "outputs": [
        {
          "output_type": "stream",
          "name": "stdout",
          "text": [
            "Qual a sua idade? 10\n",
            "Sinto muito, infelizmente você não pode votar\n"
          ]
        }
      ]
    },
    {
      "cell_type": "markdown",
      "source": [
        "Criar a narrativa, pseudocódigo, fluxograma e código para um programa que receba o raio (r) de uma\n",
        "esfera, e em seguida calcule e exibir o seu volume (v) desta esfera.\n"
      ],
      "metadata": {
        "id": "3bYSq6kwfAAY"
      }
    },
    {
      "cell_type": "code",
      "source": [
        "raio = float(input(\"Digite o raio da esfera: \"))\n",
        "pi = 3.14\n",
        "volume = 4/3 * pi * raio**3\n",
        "print(f\"O volume da esfera é: {volume:.2f}cm^3\")"
      ],
      "metadata": {
        "colab": {
          "base_uri": "https://localhost:8080/"
        },
        "id": "oq0IlwYvfDvk",
        "outputId": "2f5aaeae-8e94-41fc-eaf3-c1ee21e2a44d"
      },
      "execution_count": 96,
      "outputs": [
        {
          "output_type": "stream",
          "name": "stdout",
          "text": [
            "Digite o raio da esfera: 10\n",
            "O volume da esfera é: 4186.67cm^3\n"
          ]
        }
      ]
    },
    {
      "cell_type": "markdown",
      "source": [
        "Criar a narrativa, pseudocódigo, fluxograma e código para um programa que receba um ângulo (g) em\n",
        "graus, e converta este valor para radianos (r)."
      ],
      "metadata": {
        "id": "-w3gFdDGhBfL"
      }
    },
    {
      "cell_type": "code",
      "source": [
        "graus = float(input(\"Digite o ângulo em graus: \"))\n",
        "pi = 3.14\n",
        "radianos = graus * pi/180\n",
        "print(f\"Um ângulo de {graus:.2f} equivale a {radianos:.2f} radianos.\")"
      ],
      "metadata": {
        "colab": {
          "base_uri": "https://localhost:8080/"
        },
        "id": "pIrMT8rbhGu3",
        "outputId": "e6088378-5b1e-4084-8df8-57f1f3fb146f"
      },
      "execution_count": 97,
      "outputs": [
        {
          "output_type": "stream",
          "name": "stdout",
          "text": [
            "Digite o ângulo em graus: 16\n",
            "Um ângulo de 16.00 equivale a 0.28 radianos.\n"
          ]
        }
      ]
    },
    {
      "cell_type": "markdown",
      "source": [
        "Criar a narrativa, pseudocódigo, fluxograma e código para um programa que receba o valor de um ângulo\n",
        "em radianos, e converta este valor para graus."
      ],
      "metadata": {
        "id": "WNyFgYvSiu8E"
      }
    },
    {
      "cell_type": "code",
      "source": [
        "radianos = float(input(\"Digite o valor em radianos: \"))\n",
        "pi = 3.14\n",
        "graus = radianos / pi*180\n",
        "print(f\"O radiano {radianos:.2f} equivale a {graus:.2f} graus.\")"
      ],
      "metadata": {
        "colab": {
          "base_uri": "https://localhost:8080/"
        },
        "id": "Sy82wdWgiwbW",
        "outputId": "07d4af3d-80b4-4ff1-d5b8-e94ac5a74589"
      },
      "execution_count": 98,
      "outputs": [
        {
          "output_type": "stream",
          "name": "stdout",
          "text": [
            "Digite o valor em radianos: 5869\n",
            "O radiano 5869.00 equivale a 336439.49 graus.\n"
          ]
        }
      ]
    },
    {
      "cell_type": "markdown",
      "source": [
        "Criar a narrativa, pseudocódigo, fluxograma e código para um programa que receba ângulo em radianos, e\n",
        "converta este valor para grados. Lembrar que 400 grados equivalem a 2*pi radianos."
      ],
      "metadata": {
        "id": "qaUfBjYrjK74"
      }
    },
    {
      "cell_type": "code",
      "source": [
        "radianos = float(input(\"Digite o valor em radianos: \"))\n",
        "pi = 3.14\n",
        "grados = radianos * (200/pi)\n",
        "print(f\"Convertendo {radianos:.2f} radianos obtemos {grados:.2f} grados.\")"
      ],
      "metadata": {
        "colab": {
          "base_uri": "https://localhost:8080/"
        },
        "id": "li6K7CqDjQG1",
        "outputId": "dac08c9e-bf0a-403e-a036-215bf6edc530"
      },
      "execution_count": 100,
      "outputs": [
        {
          "output_type": "stream",
          "name": "stdout",
          "text": [
            "Digite o valor em radianos: 57\n",
            "Convertendo 57.00 radianos obtemos 3630.57 grados.\n"
          ]
        }
      ]
    },
    {
      "cell_type": "markdown",
      "source": [
        "A seguir, a narrativa, o pseudocódigo, fluxograma e código e um\n",
        "programa para ler um número digitado pelo usuário no seu teclado\n",
        "e verificar e informar se o número digitado é par ou ímpar."
      ],
      "metadata": {
        "id": "zl6tk7FAnCLI"
      }
    },
    {
      "cell_type": "code",
      "source": [
        "valor = int(input(\"Digite um número inteiro: \"))\n",
        "if valor % 2 == 0:\n",
        "  print(\"O número informado é par\")\n",
        "else:\n",
        "  print(\"O número informado é ímpar\")"
      ],
      "metadata": {
        "id": "2Ln0GaBfnDLX"
      },
      "execution_count": null,
      "outputs": []
    },
    {
      "cell_type": "markdown",
      "source": [
        "Pseudocódigo, fluxograma e código de um programa para ler um\n",
        "número digitado pelo usuário no seu teclado e verificar e calcular\n",
        "raiz quadrada para valores Maiores ou iguais a zero; caso exibir a\n",
        "mensagem “Não existe raiz real para este número!”."
      ],
      "metadata": {
        "id": "DDQGxLsVoVKr"
      }
    },
    {
      "cell_type": "code",
      "source": [
        "import math\n",
        "valor = int(input(\"Digite um número inteiro: \"))\n",
        "if valor >= 0:\n",
        "  raiz_quadrada = math.sqrt(valor)\n",
        "  print(f\"A raiz quadrada de {valor} é {raiz_quadrada:.2f}.\")\n",
        "else:\n",
        "  print(\"Não existe raiz real para este número!\")"
      ],
      "metadata": {
        "id": "yiKzn0VvoWmD"
      },
      "execution_count": null,
      "outputs": []
    },
    {
      "cell_type": "markdown",
      "source": [
        "Elaborar o Pseudocódigo, fluxograma e\n",
        "código de um programa para exibir o\n",
        "tamanho da camiseta manga curta, “PP”,\n",
        "“P”, “M”, “G”, “GG” ou “XGG”, ao\n",
        "solicitar ao usuário que ele insira os\n",
        "valores de comprimento e Largura."
      ],
      "metadata": {
        "id": "7YafEODvzVmb"
      }
    },
    {
      "cell_type": "code",
      "source": [
        "comprimento = float(input(\"Digite o comprimento da camiseta em centímetros: \"))\n",
        "largura = float(input(\"Digite a largura da camiseta em centímetros: \"))\n",
        "\n",
        "if comprimento <= 60 and largura <= 45:\n",
        "  tamanho = \"PP\"\n",
        "elif comprimento <= 65 and largura <= 48:\n",
        "  tamanho = \"P\"\n",
        "elif comprimento <= 70 and largura <= 51:\n",
        "  tamanho = \"M\"\n",
        "elif comprimento<= 80 and largura <= 57:\n",
        "  tamanho = \"GG\"\n",
        "else:\n",
        "  tamanho = \"XGG\"\n",
        "\n",
        "print(f\"O tamanho da camiseta é {tamanho}\")"
      ],
      "metadata": {
        "id": "dhxA_aY8zWx9"
      },
      "execution_count": null,
      "outputs": []
    },
    {
      "cell_type": "markdown",
      "source": [
        "Elaborar um programa em python que solicite ao\n",
        "usuário um valor inteiro e em seguida informe ao usuário se o valor é múltiplo de 3 ou não.\n",
        "A seguir o pseudocódigo referente ao algoritmo do programa:"
      ],
      "metadata": {
        "id": "wrWBWr4p0_e5"
      }
    },
    {
      "cell_type": "code",
      "source": [
        "valor = int(input(\"Digite um número inteiro: \"))\n",
        "if valor%3 == 0:\n",
        "  print(\"Múltiplo de três.\")\n",
        "else:\n",
        "  print(\"Não múltiplo.\")"
      ],
      "metadata": {
        "id": "sduPBsq_1BRm"
      },
      "execution_count": null,
      "outputs": []
    },
    {
      "cell_type": "markdown",
      "source": [
        "Dadas as notas a e b de um aluno, com pesos\n",
        "respectivamente 2 e 3; pede-se elaborar um programa em Python para calcular e exibir\n",
        "a média ponderada do aluno, verificar e informar, junto ao valor da sua média, se foi\n",
        "aprovado ou não (OBS: Considere aprovado se obtiver média igual ou superior a 5)."
      ],
      "metadata": {
        "id": "iTyfdxpG2HIJ"
      }
    },
    {
      "cell_type": "code",
      "source": [
        "ValorA = float(input(\"Digite a nota A: \"))\n",
        "ValorB = float(input(\"Digite a nota B: \"))\n",
        "\n",
        "PesoA = 2\n",
        "PesoB = 3\n",
        "Media_Ponderada = (ValorA * PesoA + ValorB * PesoB) / (PesoA + PesoB)\n",
        "\n",
        "if Media_Ponderada >= 5:\n",
        "  Resultado = \"Aprovado\"\n",
        "else:\n",
        "  Resultado = \"Reprovado\"\n",
        "print(f\"Média Ponderada: {Media_Ponderada:.2f} - Resultado: {Resultado:}\")"
      ],
      "metadata": {
        "id": "XLoVLAwX2Iyf"
      },
      "execution_count": null,
      "outputs": []
    },
    {
      "cell_type": "markdown",
      "source": [
        "Dado o algoritmo a seguir, elabore o código python do programa em questão:"
      ],
      "metadata": {
        "id": "kbWry21Z4CTz"
      }
    },
    {
      "cell_type": "code",
      "source": [
        "ValorA = int(input(\"Digite o valor A: \"))\n",
        "ValorB = int(input(\"Digite o valor B: \"))\n",
        "ValorC = int(input(\"Digite o valor C: \"))\n",
        "if ValorA <= ValorB and ValorA <= ValorC:\n",
        "  print(\"A é o menor valo.\")\n",
        "elif ValorB <= ValorA and ValorB <= ValorC:\n",
        "  print(\"B é o menor valor.\")\n",
        "else:\n",
        "  print(\"C é o menor valor.\")"
      ],
      "metadata": {
        "id": "y_XEiZjd4DFE"
      },
      "execution_count": null,
      "outputs": []
    },
    {
      "cell_type": "markdown",
      "source": [
        "Elaborar um programa para tabelar todos os valores dos ângulos\n",
        "de 0º a 360º com intervalo de 5º e seus respectivos senos."
      ],
      "metadata": {
        "id": "YuQqKwFN6OVw"
      }
    },
    {
      "cell_type": "code",
      "source": [
        "import math\n",
        "print(f\"{'Ângulo (graus)':<15} {'Seno':<10}\")\n",
        "for angulo in range (0, 361, 5):\n",
        "  radianos = math.radians(angulo)\n",
        "  seno = math.sin(radianos)\n",
        "  print(f\"{angulo:<15} {seno:<10.2f}\")\n"
      ],
      "metadata": {
        "collapsed": true,
        "id": "oNQUJBcS6R2w"
      },
      "execution_count": null,
      "outputs": []
    },
    {
      "cell_type": "markdown",
      "source": [
        "Calcular e exibir a média de n alunos. Considerar que cada aluno possui duas notas\n",
        "(N1 e N2) de mesmo peso; e que a quantidade de alunos (n), assim como as notas\n",
        "de cada aluno devem ser fornecidas pelo usuário."
      ],
      "metadata": {
        "id": "QFRjrIsu-VwQ"
      }
    },
    {
      "cell_type": "code",
      "source": [
        "#Declarar variáveis\n",
        "i = 1\n",
        "n = int(input(\"Informe a quantidade de alunos: \"))\n",
        "#Loop para calcular a média de uma qtde de alunos\n",
        "while i <= n:\n",
        "  print(f\"\\nAluno {i}: \")\n",
        "  n1 = float(input(\"Digite a nota 1: \"))\n",
        "  n2 = float(input(\"Digite a nota 2: \"))\n",
        "#Calcular a média\n",
        "  m = (n1 + n2) / 2\n",
        "#Exibir média\n",
        "  print(f\"A média do Aluno {i} é: {m:.2f}\")\n",
        "  i += 1"
      ],
      "metadata": {
        "colab": {
          "base_uri": "https://localhost:8080/"
        },
        "id": "C4bdOATi-Wu-",
        "outputId": "e1ef5a28-bb1e-45fd-b14a-e5a14e6606d8"
      },
      "execution_count": 109,
      "outputs": [
        {
          "output_type": "stream",
          "name": "stdout",
          "text": [
            "Informe a quantidade de alunos: 3\n",
            "\n",
            "Aluno 1: \n",
            "Digite a nota 1: 1\n",
            "Digite a nota 2: 1\n",
            "A média do Aluno 1 é: 1.00\n",
            "\n",
            "Aluno 2: \n",
            "Digite a nota 1: 10\n",
            "Digite a nota 2: 10\n",
            "A média do Aluno 2 é: 10.00\n",
            "\n",
            "Aluno 3: \n",
            "Digite a nota 1: 8\n",
            "Digite a nota 2: 4\n",
            "A média do Aluno 3 é: 6.00\n"
          ]
        }
      ]
    }
  ]
}